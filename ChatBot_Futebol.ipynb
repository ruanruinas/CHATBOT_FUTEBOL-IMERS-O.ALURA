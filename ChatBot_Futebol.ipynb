{
  "nbformat": 4,
  "nbformat_minor": 0,
  "metadata": {
    "colab": {
      "provenance": [],
      "authorship_tag": "ABX9TyPvaL6fs8nWcgK44DUuFJ4h",
      "include_colab_link": true
    },
    "kernelspec": {
      "name": "python3",
      "display_name": "Python 3"
    },
    "language_info": {
      "name": "python"
    }
  },
  "cells": [
    {
      "cell_type": "markdown",
      "metadata": {
        "id": "view-in-github",
        "colab_type": "text"
      },
      "source": [
        "<a href=\"https://colab.research.google.com/github/ruanruinas/CHATBOT_FUTEBOL-IMERS-O.ALURA/blob/main/ChatBot_Futebol.ipynb\" target=\"_parent\"><img src=\"https://colab.research.google.com/assets/colab-badge.svg\" alt=\"Open In Colab\"/></a>"
      ]
    },
    {
      "cell_type": "code",
      "execution_count": null,
      "metadata": {
        "id": "SJ1KVtfppZVn"
      },
      "outputs": [],
      "source": [
        "import google.generativeai as genai\n",
        "from google.colab import userdata\n",
        "api_key = userdata.get(\"Secret_key\")\n",
        "\n",
        "GOOGLE_API_KEY = \"Secret_Key\"\n",
        "genai.configure(api_key=GOOGLE_API_KEY)\n",
        "\n",
        "# Inicializando o modelo (Gemini)\n",
        "model = genai.GenerativeModel(model_name=\"gemini-1.0-pro\")\n",
        "\n",
        "# Função para estilizar o texto\n",
        "def estilizar(texto, estilo=\"negrito\"):\n",
        "  if estilo == \"negrito\":\n",
        "    return f\"**{texto}**\"\n",
        "  elif estilo == \"itálico\":\n",
        "    return f\"*{texto}*\"\n",
        "  else:\n",
        "    return texto\n",
        "\n",
        "# Iniciando o chat\n",
        "chat = model.start_chat(history=[])\n",
        "\n",
        "print(estilizar(\" Bem-vindo ao ChatBot de Futebol! \", \"itálico\"))\n",
        "\n",
        "while True:\n",
        "  prompt = input(estilizar(\"⚽️ Pergunte-me algo sobre futebol: \", \"negrito\"))\n",
        "  if prompt.lower() == \"sair\":\n",
        "    break\n",
        "\n",
        "  response = chat.send_message(prompt)\n",
        "  print(estilizar(f\" {response.text}\", \"itálico\"))\n",
        "\n",
        "print(estilizar(\"Até a próxima!\", \"itálico\"))"
      ]
    }
  ]
}